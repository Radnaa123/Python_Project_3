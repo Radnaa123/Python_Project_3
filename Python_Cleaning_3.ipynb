{
 "cells": [
  {
   "cell_type": "code",
   "execution_count": 1,
   "metadata": {},
   "outputs": [],
   "source": [
    "import pandas as pd\n",
    "import numpy as np\n",
    "import seaborn as sns\n",
    "import matplotlib.pyplot as plt"
   ]
  },
  {
   "cell_type": "code",
   "execution_count": 2,
   "metadata": {},
   "outputs": [],
   "source": [
    "# Load your CSV files into pandas DataFrames\n",
    "df_countries = pd.read_csv(r\"D:\\Data analysis\\SQl_Projects\\SQL_Project_3_Grocery_sales-Finished\\Raw data_grecery\\countries.csv\")\n",
    "df_categories = pd.read_csv(r\"D:\\Data analysis\\SQl_Projects\\SQL_Project_3_Grocery_sales-Finished\\Raw data_grecery\\categories.csv\")\n",
    "df_cities = pd.read_csv(r\"D:\\Data analysis\\SQl_Projects\\SQL_Project_3_Grocery_sales-Finished\\Raw data_grecery\\cities.csv\")\n",
    "df_customers = pd.read_csv(r\"D:\\Data analysis\\SQl_Projects\\SQL_Project_3_Grocery_sales-Finished\\Raw data_grecery\\customers.csv\")\n",
    "df_employees = pd.read_csv(r\"D:\\Data analysis\\SQl_Projects\\SQL_Project_3_Grocery_sales-Finished\\Raw data_grecery\\employees.csv\")\n",
    "df_products = pd.read_csv(r\"D:\\Data analysis\\SQl_Projects\\SQL_Project_3_Grocery_sales-Finished\\Raw data_grecery\\products.csv\")\n",
    "df_sales = pd.read_csv(r\"D:\\Data analysis\\SQl_Projects\\SQL_Project_3_Grocery_sales-Finished\\Raw data_grecery\\sales.csv\")"
   ]
  },
  {
   "cell_type": "code",
   "execution_count": 3,
   "metadata": {},
   "outputs": [],
   "source": [
    "# Step 1: Validate Foreign Keys\n",
    "\n",
    "# Validate foreign keys for 'Cities' (CountryID)\n",
    "df_cities = df_cities[df_cities['CountryID'].isin(df_countries['CountryID'])]\n",
    "\n",
    "# Validate foreign keys for 'Customers' (CityID)\n",
    "df_customers = df_customers[df_customers['CityID'].isin(df_cities['CityID'])]\n",
    "\n",
    "# Validate foreign keys for 'Employees' (CityID)\n",
    "df_employees = df_employees[df_employees['CityID'].isin(df_cities['CityID'])]\n",
    "\n",
    "# Validate foreign keys for 'Products' (CategoryID)\n",
    "df_products = df_products[df_products['CategoryID'].isin(df_categories['CategoryID'])]\n",
    "\n",
    "# Validate foreign keys for 'Sales' (SalesPersonID, CustomerID, ProductID)\n",
    "df_sales = df_sales[df_sales['SalesPersonID'].isin(df_employees['EmployeeID'])]\n",
    "df_sales = df_sales[df_sales['CustomerID'].isin(df_customers['CustomerID'])]\n",
    "df_sales = df_sales[df_sales['ProductID'].isin(df_products['ProductID'])]"
   ]
  },
  {
   "cell_type": "code",
   "execution_count": 4,
   "metadata": {},
   "outputs": [],
   "source": [
    "# Step 2: Remove Duplicates\n",
    "\n",
    "# Remove duplicates from 'Cities' based on unique CityID\n",
    "df_cities = df_cities.drop_duplicates(subset=['CityID'])\n",
    "\n",
    "# Remove duplicates from 'Customers' based on unique CustomerID\n",
    "df_customers = df_customers.drop_duplicates(subset=['CustomerID'])\n",
    "\n",
    "# Remove duplicates from 'Employees' based on unique EmployeeID\n",
    "df_employees = df_employees.drop_duplicates(subset=['EmployeeID'])\n",
    "\n",
    "# Remove duplicates from 'Products' based on unique ProductID\n",
    "df_products = df_products.drop_duplicates(subset=['ProductID'])\n",
    "\n",
    "# Remove duplicates from 'Sales' based on unique SalesID\n",
    "df_sales = df_sales.drop_duplicates(subset=['SalesID'])"
   ]
  },
  {
   "cell_type": "code",
   "execution_count": 5,
   "metadata": {},
   "outputs": [],
   "source": [
    "# Step 5: Save Cleaned DataFrames (Optional)\n",
    "\n",
    "df_countries.to_csv('cleaned_countries.csv', index=False)\n",
    "df_categories.to_csv('cleaned_categories.csv', index=False)\n",
    "df_cities.to_csv('cleaned_cities.csv', index=False)\n",
    "df_customers.to_csv('cleaned_customers.csv', index=False)\n",
    "df_employees.to_csv('cleaned_employees.csv', index=False)\n",
    "df_products.to_csv('cleaned_products.csv', index=False)\n",
    "df_sales.to_csv('cleaned_sales.csv', index=False)"
   ]
  }
 ],
 "metadata": {
  "kernelspec": {
   "display_name": "base",
   "language": "python",
   "name": "python3"
  },
  "language_info": {
   "codemirror_mode": {
    "name": "ipython",
    "version": 3
   },
   "file_extension": ".py",
   "mimetype": "text/x-python",
   "name": "python",
   "nbconvert_exporter": "python",
   "pygments_lexer": "ipython3",
   "version": "3.11.5"
  }
 },
 "nbformat": 4,
 "nbformat_minor": 2
}
